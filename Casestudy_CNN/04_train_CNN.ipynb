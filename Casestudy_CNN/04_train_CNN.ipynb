{
 "cells": [
  {
   "cell_type": "code",
   "execution_count": 1,
   "id": "fc82ad53",
   "metadata": {},
   "outputs": [],
   "source": [
    "import numpy as np\n",
    "\n",
    "data=np.load('test_data.npy')\n",
    "target=np.load('test_target.npy')\n",
    "validation_data=np.load('validation_data.npy')\n",
    "validation_target=np.load('validation_target.npy')\n",
    "test_data=np.load('test_data.npy')\n",
    "test_target=np.load('test_target.npy')\n",
    "\n",
    "#loading the save numpy arrays in the previous code"
   ]
  },
  {
   "cell_type": "code",
   "execution_count": 2,
   "id": "76d3a1a4",
   "metadata": {},
   "outputs": [
    {
     "name": "stdout",
     "output_type": "stream",
     "text": [
      "WARNING:tensorflow:From D:\\Anaconda\\Lib\\site-packages\\keras\\src\\losses.py:2976: The name tf.losses.sparse_softmax_cross_entropy is deprecated. Please use tf.compat.v1.losses.sparse_softmax_cross_entropy instead.\n",
      "\n"
     ]
    }
   ],
   "source": [
    "from keras.models import Sequential\n",
    "from keras.layers import Dense, Activation, Flatten, Dropout\n",
    "from keras.layers import Conv2D, MaxPooling2D\n",
    "from keras.callbacks import ModelCheckpoint, EarlyStopping\n",
    "from keras.regularizers import l2\n"
   ]
  },
  {
   "cell_type": "code",
   "execution_count": 3,
   "id": "50ed71b3",
   "metadata": {},
   "outputs": [
    {
     "name": "stdout",
     "output_type": "stream",
     "text": [
      "WARNING:tensorflow:From D:\\Anaconda\\Lib\\site-packages\\keras\\src\\backend.py:873: The name tf.get_default_graph is deprecated. Please use tf.compat.v1.get_default_graph instead.\n",
      "\n",
      "WARNING:tensorflow:From D:\\Anaconda\\Lib\\site-packages\\keras\\src\\layers\\pooling\\max_pooling2d.py:161: The name tf.nn.max_pool is deprecated. Please use tf.nn.max_pool2d instead.\n",
      "\n",
      "WARNING:tensorflow:From D:\\Anaconda\\Lib\\site-packages\\keras\\src\\optimizers\\__init__.py:309: The name tf.train.Optimizer is deprecated. Please use tf.compat.v1.train.Optimizer instead.\n",
      "\n",
      "Epoch 1/20\n",
      "WARNING:tensorflow:From D:\\Anaconda\\Lib\\site-packages\\keras\\src\\utils\\tf_utils.py:492: The name tf.ragged.RaggedTensorValue is deprecated. Please use tf.compat.v1.ragged.RaggedTensorValue instead.\n",
      "\n",
      "WARNING:tensorflow:From D:\\Anaconda\\Lib\\site-packages\\keras\\src\\engine\\base_layer_utils.py:384: The name tf.executing_eagerly_outside_functions is deprecated. Please use tf.compat.v1.executing_eagerly_outside_functions instead.\n",
      "\n",
      "25/25 [==============================] - ETA: 0s - loss: 2.2584 - accuracy: 0.2587INFO:tensorflow:Assets written to: model-001.model\\assets\n"
     ]
    },
    {
     "name": "stderr",
     "output_type": "stream",
     "text": [
      "INFO:tensorflow:Assets written to: model-001.model\\assets\n"
     ]
    },
    {
     "name": "stdout",
     "output_type": "stream",
     "text": [
      "25/25 [==============================] - 35s 1s/step - loss: 2.2584 - accuracy: 0.2587 - val_loss: 1.6191 - val_accuracy: 0.2500\n",
      "Epoch 2/20\n",
      "25/25 [==============================] - ETA: 0s - loss: 1.5027 - accuracy: 0.3175INFO:tensorflow:Assets written to: model-002.model\\assets\n"
     ]
    },
    {
     "name": "stderr",
     "output_type": "stream",
     "text": [
      "INFO:tensorflow:Assets written to: model-002.model\\assets\n"
     ]
    },
    {
     "name": "stdout",
     "output_type": "stream",
     "text": [
      "25/25 [==============================] - 30s 1s/step - loss: 1.5027 - accuracy: 0.3175 - val_loss: 1.3437 - val_accuracy: 0.3988\n",
      "Epoch 3/20\n",
      "25/25 [==============================] - ETA: 0s - loss: 1.2919 - accuracy: 0.4800INFO:tensorflow:Assets written to: model-003.model\\assets\n"
     ]
    },
    {
     "name": "stderr",
     "output_type": "stream",
     "text": [
      "INFO:tensorflow:Assets written to: model-003.model\\assets\n"
     ]
    },
    {
     "name": "stdout",
     "output_type": "stream",
     "text": [
      "25/25 [==============================] - 33s 1s/step - loss: 1.2919 - accuracy: 0.4800 - val_loss: 1.1922 - val_accuracy: 0.5600\n",
      "Epoch 4/20\n",
      "25/25 [==============================] - ETA: 0s - loss: 1.1827 - accuracy: 0.5987INFO:tensorflow:Assets written to: model-004.model\\assets\n"
     ]
    },
    {
     "name": "stderr",
     "output_type": "stream",
     "text": [
      "INFO:tensorflow:Assets written to: model-004.model\\assets\n"
     ]
    },
    {
     "name": "stdout",
     "output_type": "stream",
     "text": [
      "25/25 [==============================] - 32s 1s/step - loss: 1.1827 - accuracy: 0.5987 - val_loss: 1.1234 - val_accuracy: 0.6675\n",
      "Epoch 5/20\n",
      "25/25 [==============================] - ETA: 0s - loss: 1.0181 - accuracy: 0.7025INFO:tensorflow:Assets written to: model-005.model\\assets\n"
     ]
    },
    {
     "name": "stderr",
     "output_type": "stream",
     "text": [
      "INFO:tensorflow:Assets written to: model-005.model\\assets\n"
     ]
    },
    {
     "name": "stdout",
     "output_type": "stream",
     "text": [
      "25/25 [==============================] - 33s 1s/step - loss: 1.0181 - accuracy: 0.7025 - val_loss: 0.9613 - val_accuracy: 0.7475\n",
      "Epoch 6/20\n",
      "25/25 [==============================] - 34s 1s/step - loss: 0.9489 - accuracy: 0.7212 - val_loss: 1.0337 - val_accuracy: 0.6825\n",
      "Epoch 7/20\n",
      "25/25 [==============================] - 31s 1s/step - loss: 0.8886 - accuracy: 0.7563 - val_loss: 0.9638 - val_accuracy: 0.7300\n",
      "Epoch 8/20\n",
      "25/25 [==============================] - ETA: 0s - loss: 0.8091 - accuracy: 0.7862INFO:tensorflow:Assets written to: model-008.model\\assets\n"
     ]
    },
    {
     "name": "stderr",
     "output_type": "stream",
     "text": [
      "INFO:tensorflow:Assets written to: model-008.model\\assets\n"
     ]
    },
    {
     "name": "stdout",
     "output_type": "stream",
     "text": [
      "25/25 [==============================] - 35s 1s/step - loss: 0.8091 - accuracy: 0.7862 - val_loss: 0.7661 - val_accuracy: 0.8100\n",
      "Epoch 9/20\n",
      "25/25 [==============================] - 35s 1s/step - loss: 0.7515 - accuracy: 0.8238 - val_loss: 0.7665 - val_accuracy: 0.8238\n",
      "Epoch 10/20\n",
      "25/25 [==============================] - 37s 1s/step - loss: 0.7261 - accuracy: 0.8200 - val_loss: 0.8522 - val_accuracy: 0.7937\n",
      "Epoch 11/20\n",
      "25/25 [==============================] - 35s 1s/step - loss: 0.7326 - accuracy: 0.8350 - val_loss: 0.7898 - val_accuracy: 0.8213\n",
      "Epoch 12/20\n",
      "25/25 [==============================] - 38s 1s/step - loss: 0.6472 - accuracy: 0.8587 - val_loss: 0.8007 - val_accuracy: 0.8050\n",
      "Epoch 13/20\n",
      "25/25 [==============================] - ETA: 0s - loss: 0.5900 - accuracy: 0.8888INFO:tensorflow:Assets written to: model-013.model\\assets\n"
     ]
    },
    {
     "name": "stderr",
     "output_type": "stream",
     "text": [
      "INFO:tensorflow:Assets written to: model-013.model\\assets\n"
     ]
    },
    {
     "name": "stdout",
     "output_type": "stream",
     "text": [
      "25/25 [==============================] - 35s 1s/step - loss: 0.5900 - accuracy: 0.8888 - val_loss: 0.7072 - val_accuracy: 0.8562\n",
      "Epoch 14/20\n",
      "25/25 [==============================] - ETA: 0s - loss: 0.5571 - accuracy: 0.9038INFO:tensorflow:Assets written to: model-014.model\\assets\n"
     ]
    },
    {
     "name": "stderr",
     "output_type": "stream",
     "text": [
      "INFO:tensorflow:Assets written to: model-014.model\\assets\n"
     ]
    },
    {
     "name": "stdout",
     "output_type": "stream",
     "text": [
      "25/25 [==============================] - 36s 1s/step - loss: 0.5571 - accuracy: 0.9038 - val_loss: 0.6925 - val_accuracy: 0.8625\n",
      "Epoch 15/20\n",
      "25/25 [==============================] - 35s 1s/step - loss: 0.5134 - accuracy: 0.9200 - val_loss: 0.6976 - val_accuracy: 0.8637\n",
      "Epoch 16/20\n",
      "25/25 [==============================] - ETA: 0s - loss: 0.5502 - accuracy: 0.9075INFO:tensorflow:Assets written to: model-016.model\\assets\n"
     ]
    },
    {
     "name": "stderr",
     "output_type": "stream",
     "text": [
      "INFO:tensorflow:Assets written to: model-016.model\\assets\n"
     ]
    },
    {
     "name": "stdout",
     "output_type": "stream",
     "text": [
      "25/25 [==============================] - 31s 1s/step - loss: 0.5502 - accuracy: 0.9075 - val_loss: 0.6750 - val_accuracy: 0.8600\n",
      "Epoch 17/20\n",
      "25/25 [==============================] - 32s 1s/step - loss: 0.5583 - accuracy: 0.9150 - val_loss: 0.7582 - val_accuracy: 0.8388\n",
      "Epoch 18/20\n",
      "25/25 [==============================] - 31s 1s/step - loss: 0.4997 - accuracy: 0.9350 - val_loss: 0.7012 - val_accuracy: 0.8662\n",
      "Epoch 19/20\n",
      "25/25 [==============================] - ETA: 0s - loss: 0.4189 - accuracy: 0.9675INFO:tensorflow:Assets written to: model-019.model\\assets\n"
     ]
    },
    {
     "name": "stderr",
     "output_type": "stream",
     "text": [
      "INFO:tensorflow:Assets written to: model-019.model\\assets\n"
     ]
    },
    {
     "name": "stdout",
     "output_type": "stream",
     "text": [
      "25/25 [==============================] - 31s 1s/step - loss: 0.4189 - accuracy: 0.9675 - val_loss: 0.6498 - val_accuracy: 0.8750\n",
      "Epoch 20/20\n",
      "25/25 [==============================] - 33s 1s/step - loss: 0.5151 - accuracy: 0.9112 - val_loss: 0.7692 - val_accuracy: 0.8413\n"
     ]
    }
   ],
   "source": [
    "from keras.models import Sequential\n",
    "from keras.layers import Dense, Activation, Flatten, Dropout\n",
    "from keras.layers import Conv2D, MaxPooling2D\n",
    "from keras.callbacks import ModelCheckpoint, EarlyStopping\n",
    "from keras.regularizers import l2\n",
    "\n",
    "model = Sequential()\n",
    "\n",
    "model.add(Conv2D(64, (3, 3), input_shape=data.shape[1:], activation='relu'))\n",
    "model.add(MaxPooling2D(pool_size=(2, 2)))\n",
    "\n",
    "model.add(Conv2D(128, (3, 3), activation='relu'))\n",
    "model.add(MaxPooling2D(pool_size=(2, 2)))\n",
    "\n",
    "model.add(Conv2D(256, (3, 3), activation='relu'))\n",
    "model.add(MaxPooling2D(pool_size=(2, 2)))\n",
    "\n",
    "model.add(Flatten())\n",
    "model.add(Dropout(0.5))\n",
    "model.add(Dense(128, activation='relu', kernel_regularizer=l2(0.01)))\n",
    "model.add(Dense(4, activation='softmax'))\n",
    "\n",
    "model.compile(loss='categorical_crossentropy', optimizer='adam', metrics=['accuracy'])\n",
    "\n",
    "# Define callbacks\n",
    "checkpoint = ModelCheckpoint('model-{epoch:03d}.model', monitor='val_loss', verbose=0, save_best_only=True, mode='auto')\n",
    "early_stopping = EarlyStopping(monitor='val_loss', patience=10, restore_best_weights=True)\n",
    "\n",
    "# Train the model with callbacks\n",
    "history = model.fit(data, target, epochs=20, validation_data=(validation_data, validation_target), callbacks=[checkpoint, early_stopping])"
   ]
  },
  {
   "cell_type": "code",
   "execution_count": 4,
   "id": "67dfdddc",
   "metadata": {},
   "outputs": [
    {
     "name": "stdout",
     "output_type": "stream",
     "text": [
      "25/25 [==============================] - 6s 231ms/step - loss: 0.4973 - accuracy: 0.9425\n",
      "[0.49730053544044495, 0.9424999952316284]\n"
     ]
    }
   ],
   "source": [
    "print(model.evaluate(test_data,test_target))"
   ]
  },
  {
   "cell_type": "code",
   "execution_count": null,
   "id": "8bdd316b",
   "metadata": {},
   "outputs": [],
   "source": []
  }
 ],
 "metadata": {
  "kernelspec": {
   "display_name": "Python 3 (ipykernel)",
   "language": "python",
   "name": "python3"
  },
  "language_info": {
   "codemirror_mode": {
    "name": "ipython",
    "version": 3
   },
   "file_extension": ".py",
   "mimetype": "text/x-python",
   "name": "python",
   "nbconvert_exporter": "python",
   "pygments_lexer": "ipython3",
   "version": "3.11.5"
  }
 },
 "nbformat": 4,
 "nbformat_minor": 5
}
